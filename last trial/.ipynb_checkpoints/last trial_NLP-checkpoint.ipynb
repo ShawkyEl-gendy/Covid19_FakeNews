{
 "cells": [
  {
   "cell_type": "markdown",
   "id": "4fd6a53c",
   "metadata": {
    "papermill": {
     "duration": 0.016014,
     "end_time": "2023-02-16T16:07:23.070184",
     "exception": false,
     "start_time": "2023-02-16T16:07:23.054170",
     "status": "completed"
    },
    "tags": []
   },
   "source": [
    "<h1 style=\"color:Blue; font-family:Cursive\"><center><b>Fake News</center></h1> \n",
    "    \n",
    "![](https://www.chicagobooth.edu/-/media/project/chicago-booth/chicago-booth-review/2018/january/chicago-booth-twitter-bird-net-cbr.jpg?cx=0.61&cy=0.85&cw=1880&ch=783&hash=545C07CEB41B4674FFE0937CAAEACF49)"
   ]
  },
  {
   "cell_type": "markdown",
   "id": "d32803c4",
   "metadata": {
    "papermill": {
     "duration": 0.014104,
     "end_time": "2023-02-16T16:07:23.098990",
     "exception": false,
     "start_time": "2023-02-16T16:07:23.084886",
     "status": "completed"
    },
    "tags": []
   },
   "source": [
    "<h3 style=\"color:Blue; font-family:Cursive\"><b>Goal of creating this Notebook🎯</h3>\n",
    "\n",
    "* A king of yellow journalism, fake news is false information and hoaxes spread through social media and other online media to achieve a political agenda.\n",
    "* In this data analysis and data science project idea, we will use Python to build a model that can accurately detect whether a piece of news is real or fake."
   ]
  },
  {
   "cell_type": "markdown",
   "id": "3a977e0f",
   "metadata": {
    "papermill": {
     "duration": 0.014857,
     "end_time": "2023-02-16T16:07:23.129908",
     "exception": false,
     "start_time": "2023-02-16T16:07:23.115051",
     "status": "completed"
    },
    "tags": []
   },
   "source": [
    "**Table of contents of this notebook:**\n",
    "\n",
    "1. [Importing Necessary Libraries](#1)\n",
    "\n",
    "2. [Data Collection](#2)\n",
    "\n",
    "3. [Data Cleaning](#3)\n",
    "\n",
    "4. [Exploratory Data Analysis](#4)\n",
    "\n",
    "5. [Feature Engineering](#5)\n",
    "\n",
    "6. [Modelling](#6)"
   ]
  },
  {
   "cell_type": "markdown",
   "id": "50d247a8",
   "metadata": {
    "papermill": {
     "duration": 0.014433,
     "end_time": "2023-02-16T16:07:23.159952",
     "exception": false,
     "start_time": "2023-02-16T16:07:23.145519",
     "status": "completed"
    },
    "tags": []
   },
   "source": [
    "<h2  style=\"color:Blue;text-align: center\" class=\"list-group-item list-group-item-action active\">1. Importing Necessary Libraries </h2><a id = \"1\"></a>"
   ]
  },
  {
   "cell_type": "code",
   "execution_count": 202,
   "id": "92153cb7",
   "metadata": {
    "_cell_guid": "b1076dfc-b9ad-4769-8c92-a6c4dae69d19",
    "_uuid": "8f2839f25d086af736a60e9eeb907d3b93b6e0e5",
    "execution": {
     "iopub.execute_input": "2023-02-16T16:07:23.191758Z",
     "iopub.status.busy": "2023-02-16T16:07:23.191030Z",
     "iopub.status.idle": "2023-02-16T16:07:45.429292Z",
     "shell.execute_reply": "2023-02-16T16:07:45.427430Z"
    },
    "papermill": {
     "duration": 22.258196,
     "end_time": "2023-02-16T16:07:45.432768",
     "exception": false,
     "start_time": "2023-02-16T16:07:23.174572",
     "status": "completed"
    },
    "tags": []
   },
   "outputs": [],
   "source": [
    "import re \n",
    "import string\n",
    "# Analysis\n",
    "import pandas as pd\n",
    "import numpy as np\n",
    "import matplotlib.pyplot as plt\n",
    "import seaborn as sns\n",
    "import warnings\n",
    "warnings.filterwarnings('ignore')\n",
    "%matplotlib inline\n",
    "pd.set_option(\"display.max_rows\", None,\"display.max_columns\", None)\n",
    "warnings.simplefilter(action='ignore')\n",
    "plt.style.use('seaborn')\n",
    "\n",
    "# Algorithmes\n",
    "import gensim\n",
    "import nltk\n",
    "from nltk.corpus import stopwords\n",
    "from nltk.stem import PorterStemmer\n",
    "from nltk.tokenize import word_tokenize\n",
    "from autocorrect import Speller\n",
    "\n",
    "\n",
    "from scikitplot.metrics import plot_confusion_matrix, plot_roc\n",
    "\n",
    "import tensorflow as tf\n",
    "from keras.preprocessing.text import Tokenizer\n",
    "from tensorflow.keras.preprocessing.sequence import pad_sequences\n",
    "from tensorflow.keras.utils import to_categorical\n",
    "from gensim.models import Word2Vec\n",
    "from gensim.models.keyedvectors import KeyedVectors\n",
    "import time\n",
    "from keras.layers import Dense, Input, Flatten, LSTM, Bidirectional,Embedding, Dropout\n",
    "from keras.layers import Conv1D, MaxPooling1D, Embedding\n",
    "from keras.models import Sequential, load_model\n",
    "from keras import losses\n",
    "from tensorflow.keras.optimizers import Adam\n",
    "from tensorflow.keras.models import Model\n",
    "from keras.utils import pad_sequences\n",
    "from keras.utils.vis_utils import plot_model\n",
    "from keras.callbacks import EarlyStopping\n"
   ]
  },
  {
   "cell_type": "code",
   "execution_count": 201,
   "id": "4d064c45",
   "metadata": {},
   "outputs": [
    {
     "name": "stdout",
     "output_type": "stream",
     "text": [
      "Collecting scikit-plot\n",
      "  Downloading scikit_plot-0.3.7-py3-none-any.whl (33 kB)\n",
      "Requirement already satisfied: scipy>=0.9 in c:\\users\\hp\\anaconda3\\lib\\site-packages (from scikit-plot) (1.7.1)\n",
      "Requirement already satisfied: scikit-learn>=0.18 in c:\\users\\hp\\anaconda3\\lib\\site-packages (from scikit-plot) (1.2.1)\n",
      "Requirement already satisfied: matplotlib>=1.4.0 in c:\\users\\hp\\anaconda3\\lib\\site-packages (from scikit-plot) (3.4.3)\n",
      "Requirement already satisfied: joblib>=0.10 in c:\\users\\hp\\anaconda3\\lib\\site-packages (from scikit-plot) (1.2.0)\n",
      "Requirement already satisfied: pyparsing>=2.2.1 in c:\\users\\hp\\anaconda3\\lib\\site-packages (from matplotlib>=1.4.0->scikit-plot) (3.0.4)\n",
      "Requirement already satisfied: pillow>=6.2.0 in c:\\users\\hp\\anaconda3\\lib\\site-packages (from matplotlib>=1.4.0->scikit-plot) (8.4.0)\n",
      "Requirement already satisfied: numpy>=1.16 in c:\\users\\hp\\anaconda3\\lib\\site-packages (from matplotlib>=1.4.0->scikit-plot) (1.20.3)\n",
      "Requirement already satisfied: kiwisolver>=1.0.1 in c:\\users\\hp\\anaconda3\\lib\\site-packages (from matplotlib>=1.4.0->scikit-plot) (1.3.1)\n",
      "Requirement already satisfied: python-dateutil>=2.7 in c:\\users\\hp\\anaconda3\\lib\\site-packages (from matplotlib>=1.4.0->scikit-plot) (2.8.2)\n",
      "Requirement already satisfied: cycler>=0.10 in c:\\users\\hp\\anaconda3\\lib\\site-packages (from matplotlib>=1.4.0->scikit-plot) (0.10.0)\n",
      "Requirement already satisfied: six in c:\\users\\hp\\anaconda3\\lib\\site-packages (from cycler>=0.10->matplotlib>=1.4.0->scikit-plot) (1.16.0)\n",
      "Requirement already satisfied: threadpoolctl>=2.0.0 in c:\\users\\hp\\anaconda3\\lib\\site-packages (from scikit-learn>=0.18->scikit-plot) (2.2.0)\n",
      "Installing collected packages: scikit-plot\n",
      "Successfully installed scikit-plot-0.3.7\n",
      "Note: you may need to restart the kernel to use updated packages.\n"
     ]
    }
   ],
   "source": [
    "#pip install scikit-plot"
   ]
  },
  {
   "cell_type": "markdown",
   "id": "14f74e23",
   "metadata": {
    "papermill": {
     "duration": 0.017673,
     "end_time": "2023-02-16T16:07:45.468743",
     "exception": false,
     "start_time": "2023-02-16T16:07:45.451070",
     "status": "completed"
    },
    "tags": []
   },
   "source": [
    "<h2  style=\"color:Blue;text-align: center\" class=\"list-group-item list-group-item-action active\">2. Data Collection </h2><a id = \"2\"></a>"
   ]
  },
  {
   "cell_type": "code",
   "execution_count": 152,
   "id": "461d219c",
   "metadata": {
    "execution": {
     "iopub.execute_input": "2023-02-16T16:07:45.506516Z",
     "iopub.status.busy": "2023-02-16T16:07:45.505210Z",
     "iopub.status.idle": "2023-02-16T16:07:47.308322Z",
     "shell.execute_reply": "2023-02-16T16:07:47.307080Z"
    },
    "papermill": {
     "duration": 1.824952,
     "end_time": "2023-02-16T16:07:47.311095",
     "exception": false,
     "start_time": "2023-02-16T16:07:45.486143",
     "status": "completed"
    },
    "tags": []
   },
   "outputs": [
    {
     "data": {
      "text/html": [
       "<div>\n",
       "<style scoped>\n",
       "    .dataframe tbody tr th:only-of-type {\n",
       "        vertical-align: middle;\n",
       "    }\n",
       "\n",
       "    .dataframe tbody tr th {\n",
       "        vertical-align: top;\n",
       "    }\n",
       "\n",
       "    .dataframe thead th {\n",
       "        text-align: right;\n",
       "    }\n",
       "</style>\n",
       "<table border=\"1\" class=\"dataframe\">\n",
       "  <thead>\n",
       "    <tr style=\"text-align: right;\">\n",
       "      <th></th>\n",
       "      <th>Date Posted</th>\n",
       "      <th>Link</th>\n",
       "      <th>Text</th>\n",
       "      <th>Region</th>\n",
       "      <th>Username</th>\n",
       "      <th>Publisher</th>\n",
       "      <th>Label</th>\n",
       "    </tr>\n",
       "  </thead>\n",
       "  <tbody>\n",
       "    <tr>\n",
       "      <th>584</th>\n",
       "      <td>3/27/20</td>\n",
       "      <td>https://twitter.com/washingtonpost/status/1243...</td>\n",
       "      <td>Four passengers have died, two test positive f...</td>\n",
       "      <td>United States</td>\n",
       "      <td>washingtonpost</td>\n",
       "      <td>The Washington Post</td>\n",
       "      <td>1</td>\n",
       "    </tr>\n",
       "    <tr>\n",
       "      <th>1544</th>\n",
       "      <td>4/22/20</td>\n",
       "      <td>https://twitter.com/BBCNews/status/12528717731...</td>\n",
       "      <td>Coronavirus: Facebook launches UK Covid-19 sym...</td>\n",
       "      <td>Europe</td>\n",
       "      <td>bbcnews</td>\n",
       "      <td>BBC News (UK)</td>\n",
       "      <td>1</td>\n",
       "    </tr>\n",
       "    <tr>\n",
       "      <th>3383</th>\n",
       "      <td>6/15/20</td>\n",
       "      <td>https://twitter.com/nytimes/status/12723481303...</td>\n",
       "      <td>Immigrants in at least a dozen ICE facilities ...</td>\n",
       "      <td>United States</td>\n",
       "      <td>nytimes</td>\n",
       "      <td>The New York Times</td>\n",
       "      <td>1</td>\n",
       "    </tr>\n",
       "    <tr>\n",
       "      <th>3621</th>\n",
       "      <td>6/24/20</td>\n",
       "      <td>https://twitter.com/ndtv/status/12758553405889...</td>\n",
       "      <td>Tamil Nadu: 'Siddha' treatment for #COVID draw...</td>\n",
       "      <td>India</td>\n",
       "      <td>ndtv</td>\n",
       "      <td>NDTV</td>\n",
       "      <td>1</td>\n",
       "    </tr>\n",
       "    <tr>\n",
       "      <th>1900</th>\n",
       "      <td>4/30/20</td>\n",
       "      <td>https://twitter.com/BBCNews/status/12559061976...</td>\n",
       "      <td>\"This is a really promising first step\"\\n\\nChi...</td>\n",
       "      <td>Europe</td>\n",
       "      <td>bbcnews</td>\n",
       "      <td>BBC News (UK)</td>\n",
       "      <td>1</td>\n",
       "    </tr>\n",
       "    <tr>\n",
       "      <th>2670</th>\n",
       "      <td>5/22/20</td>\n",
       "      <td>https://twitter.com/guardiannews/status/126368...</td>\n",
       "      <td>First families pay tribute after ex-White Hous...</td>\n",
       "      <td>Europe</td>\n",
       "      <td>guardiannews</td>\n",
       "      <td>Guardian news</td>\n",
       "      <td>1</td>\n",
       "    </tr>\n",
       "    <tr>\n",
       "      <th>3560</th>\n",
       "      <td>6/23/20</td>\n",
       "      <td>https://twitter.com/BBCNews/status/12753764179...</td>\n",
       "      <td>Thousands will need to be recalled to hospital...</td>\n",
       "      <td>Europe</td>\n",
       "      <td>bbcnews</td>\n",
       "      <td>BBC News (UK)</td>\n",
       "      <td>1</td>\n",
       "    </tr>\n",
       "    <tr>\n",
       "      <th>2259</th>\n",
       "      <td>5/10/20</td>\n",
       "      <td>https://twitter.com/guardiannews/status/125939...</td>\n",
       "      <td>Coronavirus live news: three White House Covid...</td>\n",
       "      <td>Europe</td>\n",
       "      <td>guardiannews</td>\n",
       "      <td>Guardian news</td>\n",
       "      <td>1</td>\n",
       "    </tr>\n",
       "    <tr>\n",
       "      <th>836</th>\n",
       "      <td>4/4/20</td>\n",
       "      <td>https://twitter.com/ndtv/status/12463428312260...</td>\n",
       "      <td>Guwahati journalists get special suits in figh...</td>\n",
       "      <td>India</td>\n",
       "      <td>ndtv</td>\n",
       "      <td>NDTV</td>\n",
       "      <td>1</td>\n",
       "    </tr>\n",
       "    <tr>\n",
       "      <th>3774</th>\n",
       "      <td>6/30/20</td>\n",
       "      <td>https://twitter.com/guardiannews/status/127775...</td>\n",
       "      <td>Covid-19 recession causing job losses in older...</td>\n",
       "      <td>Europe</td>\n",
       "      <td>guardiannews</td>\n",
       "      <td>Guardian news</td>\n",
       "      <td>1</td>\n",
       "    </tr>\n",
       "  </tbody>\n",
       "</table>\n",
       "</div>"
      ],
      "text/plain": [
       "     Date Posted                                               Link  \\\n",
       "584      3/27/20  https://twitter.com/washingtonpost/status/1243...   \n",
       "1544     4/22/20  https://twitter.com/BBCNews/status/12528717731...   \n",
       "3383     6/15/20  https://twitter.com/nytimes/status/12723481303...   \n",
       "3621     6/24/20  https://twitter.com/ndtv/status/12758553405889...   \n",
       "1900     4/30/20  https://twitter.com/BBCNews/status/12559061976...   \n",
       "2670     5/22/20  https://twitter.com/guardiannews/status/126368...   \n",
       "3560     6/23/20  https://twitter.com/BBCNews/status/12753764179...   \n",
       "2259     5/10/20  https://twitter.com/guardiannews/status/125939...   \n",
       "836       4/4/20  https://twitter.com/ndtv/status/12463428312260...   \n",
       "3774     6/30/20  https://twitter.com/guardiannews/status/127775...   \n",
       "\n",
       "                                                   Text         Region  \\\n",
       "584   Four passengers have died, two test positive f...  United States   \n",
       "1544  Coronavirus: Facebook launches UK Covid-19 sym...         Europe   \n",
       "3383  Immigrants in at least a dozen ICE facilities ...  United States   \n",
       "3621  Tamil Nadu: 'Siddha' treatment for #COVID draw...          India   \n",
       "1900  \"This is a really promising first step\"\\n\\nChi...         Europe   \n",
       "2670  First families pay tribute after ex-White Hous...         Europe   \n",
       "3560  Thousands will need to be recalled to hospital...         Europe   \n",
       "2259  Coronavirus live news: three White House Covid...         Europe   \n",
       "836   Guwahati journalists get special suits in figh...          India   \n",
       "3774  Covid-19 recession causing job losses in older...         Europe   \n",
       "\n",
       "            Username            Publisher  Label  \n",
       "584   washingtonpost  The Washington Post      1  \n",
       "1544         bbcnews        BBC News (UK)      1  \n",
       "3383         nytimes   The New York Times      1  \n",
       "3621            ndtv                 NDTV      1  \n",
       "1900         bbcnews        BBC News (UK)      1  \n",
       "2670    guardiannews        Guardian news      1  \n",
       "3560         bbcnews        BBC News (UK)      1  \n",
       "2259    guardiannews        Guardian news      1  \n",
       "836             ndtv                 NDTV      1  \n",
       "3774    guardiannews        Guardian news      1  "
      ]
     },
     "execution_count": 152,
     "metadata": {},
     "output_type": "execute_result"
    }
   ],
   "source": [
    "true=pd.read_csv(\"trueNews.csv\")\n",
    "true.sample(10)"
   ]
  },
  {
   "cell_type": "code",
   "execution_count": 153,
   "id": "05fef1ca",
   "metadata": {},
   "outputs": [
    {
     "data": {
      "text/plain": [
       "(3793, 7)"
      ]
     },
     "execution_count": 153,
     "metadata": {},
     "output_type": "execute_result"
    }
   ],
   "source": [
    "true.shape"
   ]
  },
  {
   "cell_type": "code",
   "execution_count": 154,
   "id": "a4c1f93c",
   "metadata": {},
   "outputs": [
    {
     "data": {
      "text/plain": [
       "'An elderly Chinese tourist hospitalised in France has died of the #coronavirus (COVID-19), becoming the first fatality in Europe, French Health Minister Agnes Buzyn said.\\n https://trib.al/maHJZC0\\xa0'"
      ]
     },
     "execution_count": 154,
     "metadata": {},
     "output_type": "execute_result"
    }
   ],
   "source": [
    "true.iloc[5][\"Text\"]"
   ]
  },
  {
   "cell_type": "code",
   "execution_count": 155,
   "id": "d7dd7146",
   "metadata": {},
   "outputs": [
    {
     "data": {
      "text/html": [
       "<div>\n",
       "<style scoped>\n",
       "    .dataframe tbody tr th:only-of-type {\n",
       "        vertical-align: middle;\n",
       "    }\n",
       "\n",
       "    .dataframe tbody tr th {\n",
       "        vertical-align: top;\n",
       "    }\n",
       "\n",
       "    .dataframe thead th {\n",
       "        text-align: right;\n",
       "    }\n",
       "</style>\n",
       "<table border=\"1\" class=\"dataframe\">\n",
       "  <thead>\n",
       "    <tr style=\"text-align: right;\">\n",
       "      <th></th>\n",
       "      <th>Text</th>\n",
       "      <th>Label</th>\n",
       "    </tr>\n",
       "  </thead>\n",
       "  <tbody>\n",
       "    <tr>\n",
       "      <th>0</th>\n",
       "      <td>Just in: Novel coronavirus named 'Covid-19': U...</td>\n",
       "      <td>1</td>\n",
       "    </tr>\n",
       "    <tr>\n",
       "      <th>1</th>\n",
       "      <td>WHO officially names #coronavirus as Covid-19....</td>\n",
       "      <td>1</td>\n",
       "    </tr>\n",
       "    <tr>\n",
       "      <th>2</th>\n",
       "      <td>The #UN #health agency announced that \"COVID-1...</td>\n",
       "      <td>1</td>\n",
       "    </tr>\n",
       "    <tr>\n",
       "      <th>3</th>\n",
       "      <td>The Indian Embassy in Tokyo has said that one ...</td>\n",
       "      <td>1</td>\n",
       "    </tr>\n",
       "    <tr>\n",
       "      <th>4</th>\n",
       "      <td>Ground Zero | How Kerala used its experience i...</td>\n",
       "      <td>1</td>\n",
       "    </tr>\n",
       "  </tbody>\n",
       "</table>\n",
       "</div>"
      ],
      "text/plain": [
       "                                                Text  Label\n",
       "0  Just in: Novel coronavirus named 'Covid-19': U...      1\n",
       "1  WHO officially names #coronavirus as Covid-19....      1\n",
       "2  The #UN #health agency announced that \"COVID-1...      1\n",
       "3  The Indian Embassy in Tokyo has said that one ...      1\n",
       "4  Ground Zero | How Kerala used its experience i...      1"
      ]
     },
     "execution_count": 155,
     "metadata": {},
     "output_type": "execute_result"
    }
   ],
   "source": [
    "true=true[[\"Text\",\"Label\"]]\n",
    "true.head()"
   ]
  },
  {
   "cell_type": "code",
   "execution_count": null,
   "id": "ce65676a",
   "metadata": {},
   "outputs": [],
   "source": []
  },
  {
   "cell_type": "code",
   "execution_count": null,
   "id": "e04d1385",
   "metadata": {},
   "outputs": [],
   "source": []
  },
  {
   "cell_type": "code",
   "execution_count": 156,
   "id": "fe86062d",
   "metadata": {},
   "outputs": [
    {
     "data": {
      "text/html": [
       "<div>\n",
       "<style scoped>\n",
       "    .dataframe tbody tr th:only-of-type {\n",
       "        vertical-align: middle;\n",
       "    }\n",
       "\n",
       "    .dataframe tbody tr th {\n",
       "        vertical-align: top;\n",
       "    }\n",
       "\n",
       "    .dataframe thead th {\n",
       "        text-align: right;\n",
       "    }\n",
       "</style>\n",
       "<table border=\"1\" class=\"dataframe\">\n",
       "  <thead>\n",
       "    <tr style=\"text-align: right;\">\n",
       "      <th></th>\n",
       "      <th>Date Posted</th>\n",
       "      <th>Link</th>\n",
       "      <th>Text</th>\n",
       "      <th>Region</th>\n",
       "      <th>Country</th>\n",
       "      <th>Explanation</th>\n",
       "      <th>Origin</th>\n",
       "      <th>Origin_URL</th>\n",
       "      <th>Fact_checked_by</th>\n",
       "      <th>Poynter_Label</th>\n",
       "      <th>Binary Label</th>\n",
       "    </tr>\n",
       "  </thead>\n",
       "  <tbody>\n",
       "    <tr>\n",
       "      <th>0</th>\n",
       "      <td>2/7/20</td>\n",
       "      <td>https://www.poynter.org/?ifcn_misinformation=t...</td>\n",
       "      <td>Tencent revealed the real number of deaths.\\t\\t</td>\n",
       "      <td>Europe</td>\n",
       "      <td>France</td>\n",
       "      <td>The screenshot is questionable.</td>\n",
       "      <td>Twitter</td>\n",
       "      <td>https://www.liberation.fr/checknews/2020/02/07...</td>\n",
       "      <td>CheckNews</td>\n",
       "      <td>Misleading</td>\n",
       "      <td>0</td>\n",
       "    </tr>\n",
       "    <tr>\n",
       "      <th>1</th>\n",
       "      <td>2/7/20</td>\n",
       "      <td>https://www.poynter.org/?ifcn_misinformation=t...</td>\n",
       "      <td>Taking chlorine dioxide helps fight coronavir...</td>\n",
       "      <td>Europe</td>\n",
       "      <td>Germany</td>\n",
       "      <td>Chlorine dioxide does guard against the coron...</td>\n",
       "      <td>Website</td>\n",
       "      <td>https://correctiv.org/faktencheck/medizin-und-...</td>\n",
       "      <td>Correctiv</td>\n",
       "      <td>FALSE</td>\n",
       "      <td>0</td>\n",
       "    </tr>\n",
       "    <tr>\n",
       "      <th>2</th>\n",
       "      <td>2/7/20</td>\n",
       "      <td>https://www.poynter.org/?ifcn_misinformation=t...</td>\n",
       "      <td>This video shows workmen uncovering a bat-inf...</td>\n",
       "      <td>India</td>\n",
       "      <td>India</td>\n",
       "      <td>A video shows bats nesting in the roof; howev...</td>\n",
       "      <td>Facebook</td>\n",
       "      <td>https://factcheck.afp.com/video-shows-workmen-...</td>\n",
       "      <td>AFP</td>\n",
       "      <td>MISLEADING</td>\n",
       "      <td>0</td>\n",
       "    </tr>\n",
       "    <tr>\n",
       "      <th>3</th>\n",
       "      <td>2/7/20</td>\n",
       "      <td>https://www.poynter.org/?ifcn_misinformation=t...</td>\n",
       "      <td>The Asterix comic books and The Simpsons pred...</td>\n",
       "      <td>India</td>\n",
       "      <td>India</td>\n",
       "      <td>Coronavirus has been around since the 1960s. ...</td>\n",
       "      <td>Twitter</td>\n",
       "      <td>https://www.boomlive.in/health/did-the-simpson...</td>\n",
       "      <td>BOOM FactCheck</td>\n",
       "      <td>Misleading</td>\n",
       "      <td>0</td>\n",
       "    </tr>\n",
       "    <tr>\n",
       "      <th>4</th>\n",
       "      <td>2/7/20</td>\n",
       "      <td>https://www.poynter.org/?ifcn_misinformation=c...</td>\n",
       "      <td>Chinese President Xi Jinping visited a mosque...</td>\n",
       "      <td>India</td>\n",
       "      <td>India</td>\n",
       "      <td>Chinese President Xi Jinping's visit to the m...</td>\n",
       "      <td>Facebook</td>\n",
       "      <td>http://newsmobile.in/articles/2020/02/07/chine...</td>\n",
       "      <td>NewsMobile</td>\n",
       "      <td>FALSE</td>\n",
       "      <td>0</td>\n",
       "    </tr>\n",
       "  </tbody>\n",
       "</table>\n",
       "</div>"
      ],
      "text/plain": [
       "  Date Posted                                               Link  \\\n",
       "0      2/7/20  https://www.poynter.org/?ifcn_misinformation=t...   \n",
       "1      2/7/20  https://www.poynter.org/?ifcn_misinformation=t...   \n",
       "2      2/7/20  https://www.poynter.org/?ifcn_misinformation=t...   \n",
       "3      2/7/20  https://www.poynter.org/?ifcn_misinformation=t...   \n",
       "4      2/7/20  https://www.poynter.org/?ifcn_misinformation=c...   \n",
       "\n",
       "                                                Text  Region   Country  \\\n",
       "0    Tencent revealed the real number of deaths.\\t\\t  Europe    France   \n",
       "1   Taking chlorine dioxide helps fight coronavir...  Europe   Germany   \n",
       "2   This video shows workmen uncovering a bat-inf...   India     India   \n",
       "3   The Asterix comic books and The Simpsons pred...   India     India   \n",
       "4   Chinese President Xi Jinping visited a mosque...   India     India   \n",
       "\n",
       "                                         Explanation     Origin  \\\n",
       "0                    The screenshot is questionable.    Twitter   \n",
       "1   Chlorine dioxide does guard against the coron...    Website   \n",
       "2   A video shows bats nesting in the roof; howev...   Facebook   \n",
       "3   Coronavirus has been around since the 1960s. ...    Twitter   \n",
       "4   Chinese President Xi Jinping's visit to the m...   Facebook   \n",
       "\n",
       "                                          Origin_URL  Fact_checked_by  \\\n",
       "0  https://www.liberation.fr/checknews/2020/02/07...        CheckNews   \n",
       "1  https://correctiv.org/faktencheck/medizin-und-...        Correctiv   \n",
       "2  https://factcheck.afp.com/video-shows-workmen-...              AFP   \n",
       "3  https://www.boomlive.in/health/did-the-simpson...   BOOM FactCheck   \n",
       "4  http://newsmobile.in/articles/2020/02/07/chine...       NewsMobile   \n",
       "\n",
       "  Poynter_Label  Binary Label  \n",
       "0    Misleading             0  \n",
       "1         FALSE             0  \n",
       "2    MISLEADING             0  \n",
       "3    Misleading             0  \n",
       "4         FALSE             0  "
      ]
     },
     "execution_count": 156,
     "metadata": {},
     "output_type": "execute_result"
    }
   ],
   "source": [
    "fake=pd.read_csv(\"fakeNews.csv\")\n",
    "fake.head(5)"
   ]
  },
  {
   "cell_type": "code",
   "execution_count": 157,
   "id": "b020040a",
   "metadata": {},
   "outputs": [
    {
     "data": {
      "text/plain": [
       "(3795, 11)"
      ]
     },
     "execution_count": 157,
     "metadata": {},
     "output_type": "execute_result"
    }
   ],
   "source": [
    "fake.shape"
   ]
  },
  {
   "cell_type": "code",
   "execution_count": 158,
   "id": "53946112",
   "metadata": {},
   "outputs": [
    {
     "data": {
      "text/plain": [
       "' Sulfur dioxide pollution in Wuhan reveals that China is burning bodies of victims.\\t\\t'"
      ]
     },
     "execution_count": 158,
     "metadata": {},
     "output_type": "execute_result"
    }
   ],
   "source": [
    "fake.iloc[55][\"Text\"]"
   ]
  },
  {
   "cell_type": "code",
   "execution_count": 159,
   "id": "3a75c4df",
   "metadata": {},
   "outputs": [],
   "source": [
    "fake.rename(columns={\"Binary Label\":\"Label\"},inplace=True)"
   ]
  },
  {
   "cell_type": "code",
   "execution_count": 160,
   "id": "d72ef8d7",
   "metadata": {},
   "outputs": [
    {
     "data": {
      "text/html": [
       "<div>\n",
       "<style scoped>\n",
       "    .dataframe tbody tr th:only-of-type {\n",
       "        vertical-align: middle;\n",
       "    }\n",
       "\n",
       "    .dataframe tbody tr th {\n",
       "        vertical-align: top;\n",
       "    }\n",
       "\n",
       "    .dataframe thead th {\n",
       "        text-align: right;\n",
       "    }\n",
       "</style>\n",
       "<table border=\"1\" class=\"dataframe\">\n",
       "  <thead>\n",
       "    <tr style=\"text-align: right;\">\n",
       "      <th></th>\n",
       "      <th>Text</th>\n",
       "      <th>Label</th>\n",
       "    </tr>\n",
       "  </thead>\n",
       "  <tbody>\n",
       "    <tr>\n",
       "      <th>0</th>\n",
       "      <td>Tencent revealed the real number of deaths.\\t\\t</td>\n",
       "      <td>0</td>\n",
       "    </tr>\n",
       "    <tr>\n",
       "      <th>1</th>\n",
       "      <td>Taking chlorine dioxide helps fight coronavir...</td>\n",
       "      <td>0</td>\n",
       "    </tr>\n",
       "    <tr>\n",
       "      <th>2</th>\n",
       "      <td>This video shows workmen uncovering a bat-inf...</td>\n",
       "      <td>0</td>\n",
       "    </tr>\n",
       "    <tr>\n",
       "      <th>3</th>\n",
       "      <td>The Asterix comic books and The Simpsons pred...</td>\n",
       "      <td>0</td>\n",
       "    </tr>\n",
       "    <tr>\n",
       "      <th>4</th>\n",
       "      <td>Chinese President Xi Jinping visited a mosque...</td>\n",
       "      <td>0</td>\n",
       "    </tr>\n",
       "  </tbody>\n",
       "</table>\n",
       "</div>"
      ],
      "text/plain": [
       "                                                Text  Label\n",
       "0    Tencent revealed the real number of deaths.\\t\\t      0\n",
       "1   Taking chlorine dioxide helps fight coronavir...      0\n",
       "2   This video shows workmen uncovering a bat-inf...      0\n",
       "3   The Asterix comic books and The Simpsons pred...      0\n",
       "4   Chinese President Xi Jinping visited a mosque...      0"
      ]
     },
     "execution_count": 160,
     "metadata": {},
     "output_type": "execute_result"
    }
   ],
   "source": [
    "fake=fake[[\"Text\",\"Label\"]]\n",
    "fake.head()"
   ]
  },
  {
   "cell_type": "code",
   "execution_count": 161,
   "id": "68851057",
   "metadata": {
    "execution": {
     "iopub.execute_input": "2023-02-16T16:07:48.918686Z",
     "iopub.status.busy": "2023-02-16T16:07:48.918261Z",
     "iopub.status.idle": "2023-02-16T16:07:48.959467Z",
     "shell.execute_reply": "2023-02-16T16:07:48.958082Z"
    },
    "papermill": {
     "duration": 0.062427,
     "end_time": "2023-02-16T16:07:48.962081",
     "exception": false,
     "start_time": "2023-02-16T16:07:48.899654",
     "status": "completed"
    },
    "tags": []
   },
   "outputs": [
    {
     "data": {
      "text/html": [
       "<div>\n",
       "<style scoped>\n",
       "    .dataframe tbody tr th:only-of-type {\n",
       "        vertical-align: middle;\n",
       "    }\n",
       "\n",
       "    .dataframe tbody tr th {\n",
       "        vertical-align: top;\n",
       "    }\n",
       "\n",
       "    .dataframe thead th {\n",
       "        text-align: right;\n",
       "    }\n",
       "</style>\n",
       "<table border=\"1\" class=\"dataframe\">\n",
       "  <thead>\n",
       "    <tr style=\"text-align: right;\">\n",
       "      <th></th>\n",
       "      <th>Text</th>\n",
       "      <th>Label</th>\n",
       "    </tr>\n",
       "  </thead>\n",
       "  <tbody>\n",
       "    <tr>\n",
       "      <th>0</th>\n",
       "      <td>Michigan governor violated social distancing ...</td>\n",
       "      <td>0</td>\n",
       "    </tr>\n",
       "    <tr>\n",
       "      <th>1</th>\n",
       "      <td>The Mexican government is not reporting hundre...</td>\n",
       "      <td>1</td>\n",
       "    </tr>\n",
       "    <tr>\n",
       "      <th>2</th>\n",
       "      <td>Summer temperatures will make coronavirus dis...</td>\n",
       "      <td>0</td>\n",
       "    </tr>\n",
       "    <tr>\n",
       "      <th>3</th>\n",
       "      <td>The state police's cyber wing has been monitor...</td>\n",
       "      <td>1</td>\n",
       "    </tr>\n",
       "    <tr>\n",
       "      <th>4</th>\n",
       "      <td>\"Queen Elizabeth tests positive for COVID-19....</td>\n",
       "      <td>0</td>\n",
       "    </tr>\n",
       "    <tr>\n",
       "      <th>5</th>\n",
       "      <td>China's Xi backs WHO-led review of covid-19 ou...</td>\n",
       "      <td>1</td>\n",
       "    </tr>\n",
       "    <tr>\n",
       "      <th>6</th>\n",
       "      <td>#CoronavirusCrisis | Meanwhile, 14 new Covid-1...</td>\n",
       "      <td>1</td>\n",
       "    </tr>\n",
       "    <tr>\n",
       "      <th>7</th>\n",
       "      <td>As domestic flights resume from May 25, passen...</td>\n",
       "      <td>1</td>\n",
       "    </tr>\n",
       "    <tr>\n",
       "      <th>8</th>\n",
       "      <td>A WhatsApp message claiming that Italian supe...</td>\n",
       "      <td>0</td>\n",
       "    </tr>\n",
       "    <tr>\n",
       "      <th>9</th>\n",
       "      <td>Election years in the United States coincide ...</td>\n",
       "      <td>0</td>\n",
       "    </tr>\n",
       "  </tbody>\n",
       "</table>\n",
       "</div>"
      ],
      "text/plain": [
       "                                                Text  Label\n",
       "0   Michigan governor violated social distancing ...      0\n",
       "1  The Mexican government is not reporting hundre...      1\n",
       "2   Summer temperatures will make coronavirus dis...      0\n",
       "3  The state police's cyber wing has been monitor...      1\n",
       "4   \"Queen Elizabeth tests positive for COVID-19....      0\n",
       "5  China's Xi backs WHO-led review of covid-19 ou...      1\n",
       "6  #CoronavirusCrisis | Meanwhile, 14 new Covid-1...      1\n",
       "7  As domestic flights resume from May 25, passen...      1\n",
       "8   A WhatsApp message claiming that Italian supe...      0\n",
       "9   Election years in the United States coincide ...      0"
      ]
     },
     "execution_count": 161,
     "metadata": {},
     "output_type": "execute_result"
    }
   ],
   "source": [
    "df=pd.concat([fake,true],ignore_index=True)\n",
    "df = df.sample(frac = 1,random_state=23).reset_index(drop=True)\n",
    "df.head(10)"
   ]
  },
  {
   "cell_type": "code",
   "execution_count": 162,
   "id": "b5926f60",
   "metadata": {},
   "outputs": [
    {
     "data": {
      "text/plain": [
       "(7588, 2)"
      ]
     },
     "execution_count": 162,
     "metadata": {},
     "output_type": "execute_result"
    }
   ],
   "source": [
    "df.shape"
   ]
  },
  {
   "cell_type": "markdown",
   "id": "e766b633",
   "metadata": {
    "papermill": {
     "duration": 0.017353,
     "end_time": "2023-02-16T16:07:48.996962",
     "exception": false,
     "start_time": "2023-02-16T16:07:48.979609",
     "status": "completed"
    },
    "tags": []
   },
   "source": [
    "<h2  style=\"color:Blue;text-align: center\" class=\"list-group-item list-group-item-action active\">3. Data Cleaning </h2><a id = \"3\"></a>"
   ]
  },
  {
   "cell_type": "code",
   "execution_count": 163,
   "id": "2374b0a9",
   "metadata": {
    "execution": {
     "iopub.execute_input": "2023-02-16T16:07:49.034700Z",
     "iopub.status.busy": "2023-02-16T16:07:49.034262Z",
     "iopub.status.idle": "2023-02-16T16:07:49.076079Z",
     "shell.execute_reply": "2023-02-16T16:07:49.074853Z"
    },
    "papermill": {
     "duration": 0.065524,
     "end_time": "2023-02-16T16:07:49.079933",
     "exception": false,
     "start_time": "2023-02-16T16:07:49.014409",
     "status": "completed"
    },
    "tags": []
   },
   "outputs": [
    {
     "name": "stdout",
     "output_type": "stream",
     "text": [
      "<class 'pandas.core.frame.DataFrame'>\n",
      "RangeIndex: 7588 entries, 0 to 7587\n",
      "Data columns (total 2 columns):\n",
      " #   Column  Non-Null Count  Dtype \n",
      "---  ------  --------------  ----- \n",
      " 0   Text    7588 non-null   object\n",
      " 1   Label   7588 non-null   int64 \n",
      "dtypes: int64(1), object(1)\n",
      "memory usage: 118.7+ KB\n"
     ]
    }
   ],
   "source": [
    "df.info()"
   ]
  },
  {
   "cell_type": "code",
   "execution_count": 164,
   "id": "afa6057b",
   "metadata": {
    "execution": {
     "iopub.execute_input": "2023-02-16T16:07:49.117669Z",
     "iopub.status.busy": "2023-02-16T16:07:49.117269Z",
     "iopub.status.idle": "2023-02-16T16:07:49.145173Z",
     "shell.execute_reply": "2023-02-16T16:07:49.144045Z"
    },
    "papermill": {
     "duration": 0.049388,
     "end_time": "2023-02-16T16:07:49.147522",
     "exception": false,
     "start_time": "2023-02-16T16:07:49.098134",
     "status": "completed"
    },
    "tags": []
   },
   "outputs": [
    {
     "data": {
      "text/plain": [
       "Text     0\n",
       "Label    0\n",
       "dtype: int64"
      ]
     },
     "execution_count": 164,
     "metadata": {},
     "output_type": "execute_result"
    }
   ],
   "source": [
    "# number of null values in each column\n",
    "df.isnull().sum()"
   ]
  },
  {
   "cell_type": "code",
   "execution_count": 165,
   "id": "c56d1127",
   "metadata": {
    "execution": {
     "iopub.execute_input": "2023-02-16T16:07:49.186664Z",
     "iopub.status.busy": "2023-02-16T16:07:49.185485Z",
     "iopub.status.idle": "2023-02-16T16:07:49.562742Z",
     "shell.execute_reply": "2023-02-16T16:07:49.561571Z"
    },
    "papermill": {
     "duration": 0.399058,
     "end_time": "2023-02-16T16:07:49.565363",
     "exception": false,
     "start_time": "2023-02-16T16:07:49.166305",
     "status": "completed"
    },
    "tags": []
   },
   "outputs": [
    {
     "data": {
      "text/plain": [
       "332"
      ]
     },
     "execution_count": 165,
     "metadata": {},
     "output_type": "execute_result"
    }
   ],
   "source": [
    "# number of duplicates rows\n",
    "df.duplicated().sum()"
   ]
  },
  {
   "cell_type": "code",
   "execution_count": 166,
   "id": "4061d79b",
   "metadata": {
    "execution": {
     "iopub.execute_input": "2023-02-16T16:07:49.603125Z",
     "iopub.status.busy": "2023-02-16T16:07:49.602686Z",
     "iopub.status.idle": "2023-02-16T16:07:49.918514Z",
     "shell.execute_reply": "2023-02-16T16:07:49.917081Z"
    },
    "papermill": {
     "duration": 0.33816,
     "end_time": "2023-02-16T16:07:49.921445",
     "exception": false,
     "start_time": "2023-02-16T16:07:49.583285",
     "status": "completed"
    },
    "tags": []
   },
   "outputs": [],
   "source": [
    "# drop duplicats rows\n",
    "df.drop_duplicates(inplace=True)"
   ]
  },
  {
   "cell_type": "code",
   "execution_count": 167,
   "id": "89cbb95e",
   "metadata": {
    "execution": {
     "iopub.execute_input": "2023-02-16T16:07:49.962181Z",
     "iopub.status.busy": "2023-02-16T16:07:49.961767Z",
     "iopub.status.idle": "2023-02-16T16:07:49.974007Z",
     "shell.execute_reply": "2023-02-16T16:07:49.973152Z"
    },
    "papermill": {
     "duration": 0.033501,
     "end_time": "2023-02-16T16:07:49.976000",
     "exception": false,
     "start_time": "2023-02-16T16:07:49.942499",
     "status": "completed"
    },
    "tags": []
   },
   "outputs": [
    {
     "data": {
      "text/html": [
       "<div>\n",
       "<style scoped>\n",
       "    .dataframe tbody tr th:only-of-type {\n",
       "        vertical-align: middle;\n",
       "    }\n",
       "\n",
       "    .dataframe tbody tr th {\n",
       "        vertical-align: top;\n",
       "    }\n",
       "\n",
       "    .dataframe thead th {\n",
       "        text-align: right;\n",
       "    }\n",
       "</style>\n",
       "<table border=\"1\" class=\"dataframe\">\n",
       "  <thead>\n",
       "    <tr style=\"text-align: right;\">\n",
       "      <th></th>\n",
       "      <th>Text</th>\n",
       "      <th>Label</th>\n",
       "    </tr>\n",
       "  </thead>\n",
       "  <tbody>\n",
       "    <tr>\n",
       "      <th>0</th>\n",
       "      <td>Michigan governor violated social distancing ...</td>\n",
       "      <td>0</td>\n",
       "    </tr>\n",
       "    <tr>\n",
       "      <th>1</th>\n",
       "      <td>The Mexican government is not reporting hundre...</td>\n",
       "      <td>1</td>\n",
       "    </tr>\n",
       "    <tr>\n",
       "      <th>2</th>\n",
       "      <td>Summer temperatures will make coronavirus dis...</td>\n",
       "      <td>0</td>\n",
       "    </tr>\n",
       "    <tr>\n",
       "      <th>3</th>\n",
       "      <td>The state police's cyber wing has been monitor...</td>\n",
       "      <td>1</td>\n",
       "    </tr>\n",
       "    <tr>\n",
       "      <th>4</th>\n",
       "      <td>\"Queen Elizabeth tests positive for COVID-19....</td>\n",
       "      <td>0</td>\n",
       "    </tr>\n",
       "  </tbody>\n",
       "</table>\n",
       "</div>"
      ],
      "text/plain": [
       "                                                Text  Label\n",
       "0   Michigan governor violated social distancing ...      0\n",
       "1  The Mexican government is not reporting hundre...      1\n",
       "2   Summer temperatures will make coronavirus dis...      0\n",
       "3  The state police's cyber wing has been monitor...      1\n",
       "4   \"Queen Elizabeth tests positive for COVID-19....      0"
      ]
     },
     "execution_count": 167,
     "metadata": {},
     "output_type": "execute_result"
    }
   ],
   "source": [
    "df.head()"
   ]
  },
  {
   "cell_type": "markdown",
   "id": "46875506",
   "metadata": {
    "papermill": {
     "duration": 0.022676,
     "end_time": "2023-02-16T16:07:53.195533",
     "exception": false,
     "start_time": "2023-02-16T16:07:53.172857",
     "status": "completed"
    },
    "tags": []
   },
   "source": [
    "<h2  style=\"color:Blue;text-align: center\" class=\"list-group-item list-group-item-action active\">5.  Feature Engineering </h2><a id = \"5\"></a>"
   ]
  },
  {
   "cell_type": "code",
   "execution_count": 168,
   "id": "cc3084de",
   "metadata": {},
   "outputs": [
    {
     "name": "stdout",
     "output_type": "stream",
     "text": [
      "covid19 is fatal disease :\n"
     ]
    }
   ],
   "source": [
    "def remove_URL(text):\n",
    "    url = re.compile(r'https?://\\S+|www\\.\\S+')\n",
    "    return url.sub(r'',text)\n",
    "\n",
    "exam=\"covid19 is fatal disease :https://www.kaggle.com/c/nlp-getting-started\"\n",
    "print(remove_URL(exam))"
   ]
  },
  {
   "cell_type": "code",
   "execution_count": 169,
   "id": "ab8090b2",
   "metadata": {},
   "outputs": [],
   "source": [
    "df[\"Text\"]=df[\"Text\"].apply(remove_URL)"
   ]
  },
  {
   "cell_type": "code",
   "execution_count": 170,
   "id": "85cc4d3f",
   "metadata": {},
   "outputs": [
    {
     "name": "stdout",
     "output_type": "stream",
     "text": [
      "\n",
      "'Michigan governor violated social distancing order while signing stay-at-home order.\t\t'\n",
      "enter\n",
      "\n"
     ]
    }
   ],
   "source": [
    "def remove_html(text):\n",
    "    html=re.compile(r'<.*?>')\n",
    "    return html.sub(r'',text)\n",
    "\n",
    "exam=\"\"\"<div>\n",
    "<h1>'Michigan governor violated social distancing order while signing stay-at-home order.\\t\\t'</h1>\n",
    "<a href=\"https://www.kaggle.com/c/nlp-getting-started\">enter</a>\n",
    "</div>\"\"\"\n",
    "print(remove_html(exam))"
   ]
  },
  {
   "cell_type": "code",
   "execution_count": 173,
   "id": "bf00aac0",
   "metadata": {},
   "outputs": [],
   "source": [
    "df[\"Text\"]=df[\"Text\"].apply(remove_html)"
   ]
  },
  {
   "cell_type": "code",
   "execution_count": 174,
   "id": "fe6e3c0b",
   "metadata": {},
   "outputs": [],
   "source": [
    "exclude = string.punctuation\n",
    "\n",
    "def remove_punc(text):\n",
    "    return text.translate(str.maketrans('', '', exclude))\n",
    "\n",
    "df[\"Text\"]=df[\"Text\"].apply(remove_punc)"
   ]
  },
  {
   "cell_type": "code",
   "execution_count": 175,
   "id": "e014499d",
   "metadata": {},
   "outputs": [
    {
     "data": {
      "text/plain": [
       "['i',\n",
       " 'me',\n",
       " 'my',\n",
       " 'myself',\n",
       " 'we',\n",
       " 'our',\n",
       " 'ours',\n",
       " 'ourselves',\n",
       " 'you',\n",
       " \"you're\",\n",
       " \"you've\",\n",
       " \"you'll\",\n",
       " \"you'd\",\n",
       " 'your',\n",
       " 'yours',\n",
       " 'yourself',\n",
       " 'yourselves',\n",
       " 'he',\n",
       " 'him',\n",
       " 'his',\n",
       " 'himself',\n",
       " 'she',\n",
       " \"she's\",\n",
       " 'her',\n",
       " 'hers',\n",
       " 'herself',\n",
       " 'it',\n",
       " \"it's\",\n",
       " 'its',\n",
       " 'itself',\n",
       " 'they',\n",
       " 'them',\n",
       " 'their',\n",
       " 'theirs',\n",
       " 'themselves',\n",
       " 'what',\n",
       " 'which',\n",
       " 'who',\n",
       " 'whom',\n",
       " 'this',\n",
       " 'that',\n",
       " \"that'll\",\n",
       " 'these',\n",
       " 'those',\n",
       " 'am',\n",
       " 'is',\n",
       " 'are',\n",
       " 'was',\n",
       " 'were',\n",
       " 'be',\n",
       " 'been',\n",
       " 'being',\n",
       " 'have',\n",
       " 'has',\n",
       " 'had',\n",
       " 'having',\n",
       " 'do',\n",
       " 'does',\n",
       " 'did',\n",
       " 'doing',\n",
       " 'a',\n",
       " 'an',\n",
       " 'the',\n",
       " 'and',\n",
       " 'but',\n",
       " 'if',\n",
       " 'or',\n",
       " 'because',\n",
       " 'as',\n",
       " 'until',\n",
       " 'while',\n",
       " 'of',\n",
       " 'at',\n",
       " 'by',\n",
       " 'for',\n",
       " 'with',\n",
       " 'about',\n",
       " 'against',\n",
       " 'between',\n",
       " 'into',\n",
       " 'through',\n",
       " 'during',\n",
       " 'before',\n",
       " 'after',\n",
       " 'above',\n",
       " 'below',\n",
       " 'to',\n",
       " 'from',\n",
       " 'up',\n",
       " 'down',\n",
       " 'in',\n",
       " 'out',\n",
       " 'on',\n",
       " 'off',\n",
       " 'over',\n",
       " 'under',\n",
       " 'again',\n",
       " 'further',\n",
       " 'then',\n",
       " 'once',\n",
       " 'here',\n",
       " 'there',\n",
       " 'when',\n",
       " 'where',\n",
       " 'why',\n",
       " 'how',\n",
       " 'all',\n",
       " 'any',\n",
       " 'both',\n",
       " 'each',\n",
       " 'few',\n",
       " 'more',\n",
       " 'most',\n",
       " 'other',\n",
       " 'some',\n",
       " 'such',\n",
       " 'no',\n",
       " 'nor',\n",
       " 'not',\n",
       " 'only',\n",
       " 'own',\n",
       " 'same',\n",
       " 'so',\n",
       " 'than',\n",
       " 'too',\n",
       " 'very',\n",
       " 's',\n",
       " 't',\n",
       " 'can',\n",
       " 'will',\n",
       " 'just',\n",
       " 'don',\n",
       " \"don't\",\n",
       " 'should',\n",
       " \"should've\",\n",
       " 'now',\n",
       " 'd',\n",
       " 'll',\n",
       " 'm',\n",
       " 'o',\n",
       " 're',\n",
       " 've',\n",
       " 'y',\n",
       " 'ain',\n",
       " 'aren',\n",
       " \"aren't\",\n",
       " 'couldn',\n",
       " \"couldn't\",\n",
       " 'didn',\n",
       " \"didn't\",\n",
       " 'doesn',\n",
       " \"doesn't\",\n",
       " 'hadn',\n",
       " \"hadn't\",\n",
       " 'hasn',\n",
       " \"hasn't\",\n",
       " 'haven',\n",
       " \"haven't\",\n",
       " 'isn',\n",
       " \"isn't\",\n",
       " 'ma',\n",
       " 'mightn',\n",
       " \"mightn't\",\n",
       " 'mustn',\n",
       " \"mustn't\",\n",
       " 'needn',\n",
       " \"needn't\",\n",
       " 'shan',\n",
       " \"shan't\",\n",
       " 'shouldn',\n",
       " \"shouldn't\",\n",
       " 'wasn',\n",
       " \"wasn't\",\n",
       " 'weren',\n",
       " \"weren't\",\n",
       " 'won',\n",
       " \"won't\",\n",
       " 'wouldn',\n",
       " \"wouldn't\"]"
      ]
     },
     "execution_count": 175,
     "metadata": {},
     "output_type": "execute_result"
    }
   ],
   "source": [
    "tl=PorterStemmer()\n",
    "stopwords=stopwords.words('english')\n",
    "stopwords"
   ]
  },
  {
   "cell_type": "code",
   "execution_count": 176,
   "id": "b36a0fd6",
   "metadata": {},
   "outputs": [],
   "source": [
    "CustomStopWords=['i',\n",
    " 'me',\n",
    " 'my',\n",
    " 'myself',\n",
    " 'we',\n",
    " 'our',\n",
    " 'ours',\n",
    " 'ourselves',\n",
    " 'you',\n",
    " \"you're\",\n",
    " \"you've\",\n",
    " \"you'll\",\n",
    " \"you'd\",\n",
    " 'your',\n",
    " 'yours',\n",
    " 'yourself',\n",
    " 'yourselves',\n",
    " 'he',\n",
    " 'him',\n",
    " 'his',\n",
    " 'himself',\n",
    " 'she',\n",
    " \"she's\",\n",
    " 'her',\n",
    " 'hers',\n",
    " 'herself',\n",
    " 'it',\n",
    " \"it's\",\n",
    " 'its',\n",
    " 'itself',\n",
    " 'they',\n",
    " 'them',\n",
    " 'their',\n",
    " 'theirs',\n",
    " 'themselves',\n",
    " 'what',\n",
    " 'which',\n",
    " 'who',\n",
    " 'whom',\n",
    " 'this',\n",
    " 'that',\n",
    " \"that'll\",\n",
    " 'these',\n",
    " 'those',\n",
    " 'am',\n",
    " 'is',\n",
    " 'are',\n",
    " 'was',\n",
    " 'were',\n",
    " 'be',\n",
    " 'been',\n",
    " 'being',\n",
    " 'have',\n",
    " 'has',\n",
    " 'had',\n",
    " 'having',\n",
    " 'do',\n",
    " 'does',\n",
    " 'did',\n",
    " 'doing',\n",
    " 'a',\n",
    " 'an',\n",
    " 'the',\n",
    " 'and',\n",
    " 'but',\n",
    " 'if',\n",
    " 'or',\n",
    " 'because',\n",
    " 'as',\n",
    " 'until',\n",
    " 'while',\n",
    " 'of',\n",
    " 'at',\n",
    " 'by',\n",
    " 'for',\n",
    " 'with',\n",
    " 'about',\n",
    " 'against',\n",
    " 'between',\n",
    " 'into',\n",
    " 'through',\n",
    " 'during',\n",
    " 'before',\n",
    " 'after',\n",
    " 'above',\n",
    " 'below',\n",
    " 'to',\n",
    " 'from',\n",
    " 'up',\n",
    " 'down',\n",
    " 'in',\n",
    " 'out',\n",
    " 'on',\n",
    " 'off',\n",
    " 'over',\n",
    " 'under',\n",
    " 'again',\n",
    " 'further',\n",
    " 'then',\n",
    " 'once',\n",
    " 'here',\n",
    " 'there',\n",
    " 'when',\n",
    " 'where',\n",
    " 'why',\n",
    " 'how',\n",
    " 'all',\n",
    " 'any',\n",
    " 'both',\n",
    " 'each',\n",
    " 'few',\n",
    " 'more',\n",
    " 'most',\n",
    " 'other',\n",
    " 'some',\n",
    " 'such',\n",
    " 'only',\n",
    " 'own',\n",
    " 'same',\n",
    " 'so',\n",
    " 'than',\n",
    " 'too',\n",
    " 'very',\n",
    " 's',\n",
    " 't',\n",
    " 'can',\n",
    " 'will',\n",
    " 'just',\n",
    " 'don',\n",
    " 'should',\n",
    " \"should've\",\n",
    " 'now',\n",
    " 'd',\n",
    " 'll',\n",
    " 'm',\n",
    " 'o',\n",
    " 're',\n",
    " 've',\n",
    " 'y']"
   ]
  },
  {
   "cell_type": "code",
   "execution_count": null,
   "id": "52b83c3d",
   "metadata": {},
   "outputs": [],
   "source": []
  },
  {
   "cell_type": "code",
   "execution_count": 177,
   "id": "620ae7ed",
   "metadata": {},
   "outputs": [],
   "source": [
    "spell = Speller(lang='en')\n",
    "\n",
    "def clean_line(line):\n",
    "    line =re.sub(r'[^a-zA-Z]',' ',line) \n",
    "    line=line.lower()\n",
    "    line=spell(line)\n",
    "    line=gensim.utils.simple_preprocess(line, deacc=True)#return list #ignore tokens that are too short or too long\n",
    "    #line=line.split()\n",
    "    line=[tl.stem(word) for word in line if word not in CustomStopWords]\n",
    "    line=\" \".join(line)\n",
    "    return line"
   ]
  },
  {
   "cell_type": "code",
   "execution_count": 178,
   "id": "3d36101c",
   "metadata": {},
   "outputs": [
    {
     "name": "stdout",
     "output_type": "stream",
     "text": [
      "text :   Michigan governor violated social distancing order while signing stayathome order\t\t\n",
      "clean text :  michigan governor violat social distanc order sign stayathom order\n"
     ]
    }
   ],
   "source": [
    "print(\"text : \", df.Text[0])\n",
    "print(\"clean text : \",clean_line(df.Text[0]))"
   ]
  },
  {
   "cell_type": "code",
   "execution_count": 179,
   "id": "b2784200",
   "metadata": {},
   "outputs": [],
   "source": [
    "df[\"Text\"]=df[\"Text\"].apply(clean_line)"
   ]
  },
  {
   "cell_type": "code",
   "execution_count": 180,
   "id": "ffc94f8e",
   "metadata": {},
   "outputs": [
    {
     "data": {
      "text/html": [
       "<div>\n",
       "<style scoped>\n",
       "    .dataframe tbody tr th:only-of-type {\n",
       "        vertical-align: middle;\n",
       "    }\n",
       "\n",
       "    .dataframe tbody tr th {\n",
       "        vertical-align: top;\n",
       "    }\n",
       "\n",
       "    .dataframe thead th {\n",
       "        text-align: right;\n",
       "    }\n",
       "</style>\n",
       "<table border=\"1\" class=\"dataframe\">\n",
       "  <thead>\n",
       "    <tr style=\"text-align: right;\">\n",
       "      <th></th>\n",
       "      <th>Text</th>\n",
       "      <th>Label</th>\n",
       "    </tr>\n",
       "  </thead>\n",
       "  <tbody>\n",
       "    <tr>\n",
       "      <th>0</th>\n",
       "      <td>michigan governor violat social distanc order ...</td>\n",
       "      <td>0</td>\n",
       "    </tr>\n",
       "    <tr>\n",
       "      <th>1</th>\n",
       "      <td>mexican govern not report hundr possibl thousa...</td>\n",
       "      <td>1</td>\n",
       "    </tr>\n",
       "    <tr>\n",
       "      <th>2</th>\n",
       "      <td>summer temperatur make coronaviru disappear</td>\n",
       "      <td>0</td>\n",
       "    </tr>\n",
       "    <tr>\n",
       "      <th>3</th>\n",
       "      <td>state polic cyber wing monitor onlin activ pre...</td>\n",
       "      <td>1</td>\n",
       "    </tr>\n",
       "    <tr>\n",
       "      <th>4</th>\n",
       "      <td>queen elizabeth test posit covid</td>\n",
       "      <td>0</td>\n",
       "    </tr>\n",
       "  </tbody>\n",
       "</table>\n",
       "</div>"
      ],
      "text/plain": [
       "                                                Text  Label\n",
       "0  michigan governor violat social distanc order ...      0\n",
       "1  mexican govern not report hundr possibl thousa...      1\n",
       "2        summer temperatur make coronaviru disappear      0\n",
       "3  state polic cyber wing monitor onlin activ pre...      1\n",
       "4                   queen elizabeth test posit covid      0"
      ]
     },
     "execution_count": 180,
     "metadata": {},
     "output_type": "execute_result"
    }
   ],
   "source": [
    "df.head()"
   ]
  },
  {
   "cell_type": "code",
   "execution_count": 185,
   "id": "951c8961",
   "metadata": {},
   "outputs": [
    {
     "data": {
      "text/html": [
       "<div>\n",
       "<style scoped>\n",
       "    .dataframe tbody tr th:only-of-type {\n",
       "        vertical-align: middle;\n",
       "    }\n",
       "\n",
       "    .dataframe tbody tr th {\n",
       "        vertical-align: top;\n",
       "    }\n",
       "\n",
       "    .dataframe thead th {\n",
       "        text-align: right;\n",
       "    }\n",
       "</style>\n",
       "<table border=\"1\" class=\"dataframe\">\n",
       "  <thead>\n",
       "    <tr style=\"text-align: right;\">\n",
       "      <th></th>\n",
       "      <th>Text</th>\n",
       "      <th>Label</th>\n",
       "    </tr>\n",
       "  </thead>\n",
       "  <tbody>\n",
       "    <tr>\n",
       "      <th>6947</th>\n",
       "      <td></td>\n",
       "      <td>0</td>\n",
       "    </tr>\n",
       "  </tbody>\n",
       "</table>\n",
       "</div>"
      ],
      "text/plain": [
       "     Text  Label\n",
       "6947           0"
      ]
     },
     "execution_count": 185,
     "metadata": {},
     "output_type": "execute_result"
    }
   ],
   "source": [
    "df[df[\"Text\"] == \"\"] #Check for Blank Tweets"
   ]
  },
  {
   "cell_type": "code",
   "execution_count": 186,
   "id": "7cf59094",
   "metadata": {},
   "outputs": [],
   "source": [
    "df.drop([6947],inplace=True)"
   ]
  },
  {
   "cell_type": "markdown",
   "id": "6444a00b",
   "metadata": {
    "papermill": {
     "duration": 0.022604,
     "end_time": "2023-02-16T16:18:04.739004",
     "exception": false,
     "start_time": "2023-02-16T16:18:04.716400",
     "status": "completed"
    },
    "tags": []
   },
   "source": [
    "<h2  style=\"color:Blue;text-align: center\" class=\"list-group-item list-group-item-action active\">6. Modelling </h2><a id = \"6\"></a>"
   ]
  },
  {
   "cell_type": "code",
   "execution_count": 187,
   "id": "41e73728",
   "metadata": {},
   "outputs": [],
   "source": [
    "len_tweet=[len(i) for i in df['Text']]"
   ]
  },
  {
   "cell_type": "code",
   "execution_count": 188,
   "id": "0fb64394",
   "metadata": {},
   "outputs": [
    {
     "data": {
      "text/plain": [
       "<AxesSubplot:ylabel='Count'>"
      ]
     },
     "execution_count": 188,
     "metadata": {},
     "output_type": "execute_result"
    },
    {
     "data": {
      "image/png": "[encoded data removed]",
      "text/plain": [
       "<Figure size 576x396 with 1 Axes>"
      ]
     },
     "metadata": {},
     "output_type": "display_data"
    }
   ],
   "source": [
    "sns.histplot(x=len_tweet,data=df)"
   ]
  },
  {
   "cell_type": "code",
   "execution_count": 189,
   "id": "c3fc105e",
   "metadata": {},
   "outputs": [],
   "source": [
    "X = df[\"Text\"]\n",
    "y = df['Label'].values\n",
    "\n",
    "X_train, X_test, y_train, y_test = train_test_split(X, y, test_size= 0.2, random_state= 42, stratify = y)"
   ]
  },
  {
   "cell_type": "code",
   "execution_count": 191,
   "id": "08c01ac2",
   "metadata": {},
   "outputs": [
    {
     "name": "stdout",
     "output_type": "stream",
     "text": [
      "Before Tokenization & Padding \n",
      " michigan governor violat social distanc order sign stayathom order \n",
      "\n",
      "After Tokenization & Padding \n",
      " [ 913  437  354   85  233  100  528 1557  100    0    0    0    0    0\n",
      "    0    0    0    0    0    0    0    0    0    0    0    0    0    0\n",
      "    0    0    0    0    0    0    0    0    0    0    0    0    0    0\n",
      "    0    0    0    0    0    0    0    0    0    0    0    0    0    0\n",
      "    0    0    0    0    0    0    0    0    0    0    0    0    0    0\n",
      "    0    0    0    0    0    0    0    0    0    0    0    0    0    0\n",
      "    0    0    0    0    0    0    0    0    0    0    0    0    0    0\n",
      "    0    0]\n"
     ]
    }
   ],
   "source": [
    "max_words = 5000\n",
    "max_len = 100\n",
    "\n",
    "def tokenize_pad_sequences(text):\n",
    "    '''\n",
    "    This function tokenize the input text into sequnences of intergers and then\n",
    "    pad each sequence to the same length\n",
    "    '''\n",
    "    # Text tokenization\n",
    "    tokenizer = Tokenizer(num_words=max_words, lower=True, split=' ')\n",
    "    tokenizer.fit_on_texts(text)\n",
    "    # Transforms text to a sequence of integers\n",
    "    X = tokenizer.texts_to_sequences(text)\n",
    "    # Pad sequences to the same length\n",
    "    X = pad_sequences(X, padding='post', maxlen=max_len)\n",
    "    # return sequences\n",
    "    return X, tokenizer\n",
    "\n",
    "print('Before Tokenization & Padding \\n', df['Text'][0],'\\n')\n",
    "X, tokenizer = tokenize_pad_sequences(df['Text'])\n",
    "print('After Tokenization & Padding \\n', X[0])"
   ]
  },
  {
   "cell_type": "code",
   "execution_count": 193,
   "id": "e6fb796e",
   "metadata": {},
   "outputs": [
    {
     "name": "stdout",
     "output_type": "stream",
     "text": [
      "Train:          (4062, 100) (4062,)\n",
      "Validation Set: (1742, 100) (1742,)\n",
      "Test Set:       (1451, 100) (1451,)\n"
     ]
    }
   ],
   "source": [
    "\n",
    "X_trn, X_tst, y_trn, y_tst = train_test_split(X, y, test_size=0.2, random_state=42, stratify=y)\n",
    "X_trn, X_vld, y_trn, y_vld = train_test_split(X_trn, y_trn, test_size=0.3, random_state=42, stratify=y_trn)\n",
    "\n",
    "print('Train:         ', X_trn.shape, y_trn.shape)\n",
    "print('Validation Set:', X_vld.shape, y_vld.shape)\n",
    "print('Test Set:      ', X_tst.shape, y_tst.shape)"
   ]
  },
  {
   "cell_type": "code",
   "execution_count": 205,
   "id": "8b96a61c",
   "metadata": {},
   "outputs": [
    {
     "name": "stdout",
     "output_type": "stream",
     "text": [
      "You must install pydot (`pip install pydot`) and install graphviz (see instructions at https://graphviz.gitlab.io/download/) for plot_model to work.\n"
     ]
    }
   ],
   "source": [
    "vocab_size = 5000\n",
    "embedding_size = 32\n",
    "epochs=50\n",
    "\n",
    "model= Sequential()\n",
    "model.add(Embedding(vocab_size, embedding_size, input_length=max_len))\n",
    "model.add(Conv1D(filters=32, kernel_size=3, padding='same', activation='relu'))\n",
    "model.add(MaxPooling1D(pool_size=2))\n",
    "model.add(Bidirectional(LSTM(32)))\n",
    "model.add(Dropout(0.4))\n",
    "model.add(Dense(1, activation='sigmoid'))\n",
    "\n",
    "plot_model(model, show_shapes = True)"
   ]
  },
  {
   "cell_type": "code",
   "execution_count": 204,
   "id": "990889d5",
   "metadata": {},
   "outputs": [
    {
     "name": "stdout",
     "output_type": "stream",
     "text": [
      "Collecting pydotNote: you may need to restart the kernel to use updated packages.\n",
      "\n",
      "  Downloading pydot-1.4.2-py2.py3-none-any.whl (21 kB)\n",
      "Requirement already satisfied: pyparsing>=2.1.4 in c:\\users\\hp\\anaconda3\\lib\\site-packages (from pydot) (3.0.4)\n",
      "Installing collected packages: pydot\n",
      "Successfully installed pydot-1.4.2\n"
     ]
    }
   ],
   "source": [
    "#pip install pydot"
   ]
  },
  {
   "cell_type": "code",
   "execution_count": 206,
   "id": "0e3285b6",
   "metadata": {},
   "outputs": [
    {
     "name": "stdout",
     "output_type": "stream",
     "text": [
      "Model: \"sequential_4\"\n",
      "_________________________________________________________________\n",
      " Layer (type)                Output Shape              Param #   \n",
      "=================================================================\n",
      " embedding_2 (Embedding)     (None, 100, 32)           160000    \n",
      "                                                                 \n",
      " conv1d_1 (Conv1D)           (None, 100, 32)           3104      \n",
      "                                                                 \n",
      " max_pooling1d_1 (MaxPooling  (None, 50, 32)           0         \n",
      " 1D)                                                             \n",
      "                                                                 \n",
      " bidirectional_1 (Bidirectio  (None, 64)               16640     \n",
      " nal)                                                            \n",
      "                                                                 \n",
      " dropout_1 (Dropout)         (None, 64)                0         \n",
      "                                                                 \n",
      " dense_3 (Dense)             (None, 1)                 65        \n",
      "                                                                 \n",
      "=================================================================\n",
      "Total params: 179,809\n",
      "Trainable params: 179,809\n",
      "Non-trainable params: 0\n",
      "_________________________________________________________________\n",
      "None\n"
     ]
    }
   ],
   "source": [
    "model.compile(loss='binary_crossentropy', optimizer='SGD', metrics=[tf.keras.metrics.Recall(),'accuracy'])\n",
    "print(model.summary())"
   ]
  },
  {
   "cell_type": "code",
   "execution_count": 207,
   "id": "245d7f1f",
   "metadata": {},
   "outputs": [
    {
     "name": "stdout",
     "output_type": "stream",
     "text": [
      "Epoch 1/50\n",
      "64/64 [==============================] - 6s 41ms/step - loss: 0.6917 - recall: 0.9948 - accuracy: 0.5224 - val_loss: 0.6914 - val_recall: 1.0000 - val_accuracy: 0.5230\n",
      "Epoch 2/50\n",
      "64/64 [==============================] - 2s 29ms/step - loss: 0.6916 - recall: 1.0000 - accuracy: 0.5226 - val_loss: 0.6912 - val_recall: 1.0000 - val_accuracy: 0.5230\n",
      "Epoch 3/50\n",
      "64/64 [==============================] - 2s 29ms/step - loss: 0.6913 - recall: 1.0000 - accuracy: 0.5226 - val_loss: 0.6910 - val_recall: 1.0000 - val_accuracy: 0.5230\n",
      "Epoch 4/50\n",
      "64/64 [==============================] - 2s 30ms/step - loss: 0.6913 - recall: 1.0000 - accuracy: 0.5226 - val_loss: 0.6909 - val_recall: 1.0000 - val_accuracy: 0.5230\n",
      "Epoch 5/50\n",
      "64/64 [==============================] - 2s 29ms/step - loss: 0.6911 - recall: 1.0000 - accuracy: 0.5226 - val_loss: 0.6908 - val_recall: 1.0000 - val_accuracy: 0.5230\n",
      "Epoch 6/50\n",
      "64/64 [==============================] - 2s 29ms/step - loss: 0.6910 - recall: 1.0000 - accuracy: 0.5226 - val_loss: 0.6906 - val_recall: 1.0000 - val_accuracy: 0.5230\n",
      "Epoch 7/50\n",
      "64/64 [==============================] - 2s 29ms/step - loss: 0.6909 - recall: 1.0000 - accuracy: 0.5226 - val_loss: 0.6904 - val_recall: 1.0000 - val_accuracy: 0.5230\n",
      "Epoch 8/50\n",
      "64/64 [==============================] - 2s 30ms/step - loss: 0.6905 - recall: 1.0000 - accuracy: 0.5226 - val_loss: 0.6903 - val_recall: 1.0000 - val_accuracy: 0.5230\n",
      "Epoch 9/50\n",
      "64/64 [==============================] - 2s 30ms/step - loss: 0.6905 - recall: 1.0000 - accuracy: 0.5226 - val_loss: 0.6901 - val_recall: 1.0000 - val_accuracy: 0.5230\n",
      "Epoch 10/50\n",
      "64/64 [==============================] - 2s 30ms/step - loss: 0.6905 - recall: 1.0000 - accuracy: 0.5226 - val_loss: 0.6899 - val_recall: 1.0000 - val_accuracy: 0.5230\n",
      "Epoch 11/50\n",
      "64/64 [==============================] - 2s 30ms/step - loss: 0.6901 - recall: 1.0000 - accuracy: 0.5226 - val_loss: 0.6897 - val_recall: 1.0000 - val_accuracy: 0.5230\n",
      "Epoch 12/50\n",
      "64/64 [==============================] - 2s 30ms/step - loss: 0.6901 - recall: 1.0000 - accuracy: 0.5226 - val_loss: 0.6895 - val_recall: 1.0000 - val_accuracy: 0.5230\n",
      "Epoch 13/50\n",
      "64/64 [==============================] - 2s 30ms/step - loss: 0.6896 - recall: 1.0000 - accuracy: 0.5226 - val_loss: 0.6892 - val_recall: 1.0000 - val_accuracy: 0.5230\n",
      "Epoch 14/50\n",
      "64/64 [==============================] - 2s 30ms/step - loss: 0.6894 - recall: 1.0000 - accuracy: 0.5226 - val_loss: 0.6889 - val_recall: 1.0000 - val_accuracy: 0.5230\n",
      "Epoch 15/50\n",
      "64/64 [==============================] - 2s 30ms/step - loss: 0.6891 - recall: 1.0000 - accuracy: 0.5226 - val_loss: 0.6887 - val_recall: 1.0000 - val_accuracy: 0.5230\n",
      "Epoch 16/50\n",
      "64/64 [==============================] - 2s 31ms/step - loss: 0.6888 - recall: 1.0000 - accuracy: 0.5239 - val_loss: 0.6884 - val_recall: 1.0000 - val_accuracy: 0.5230\n",
      "Epoch 17/50\n",
      "64/64 [==============================] - 2s 32ms/step - loss: 0.6888 - recall: 0.9995 - accuracy: 0.5224 - val_loss: 0.6880 - val_recall: 1.0000 - val_accuracy: 0.5230\n",
      "Epoch 18/50\n",
      "64/64 [==============================] - 2s 33ms/step - loss: 0.6883 - recall: 1.0000 - accuracy: 0.5229 - val_loss: 0.6877 - val_recall: 1.0000 - val_accuracy: 0.5230\n",
      "Epoch 19/50\n",
      "64/64 [==============================] - 2s 33ms/step - loss: 0.6880 - recall: 0.9995 - accuracy: 0.5229 - val_loss: 0.6874 - val_recall: 1.0000 - val_accuracy: 0.5230\n",
      "Epoch 20/50\n",
      "64/64 [==============================] - 2s 31ms/step - loss: 0.6877 - recall: 1.0000 - accuracy: 0.5234 - val_loss: 0.6870 - val_recall: 1.0000 - val_accuracy: 0.5230\n",
      "Epoch 21/50\n",
      "64/64 [==============================] - 2s 33ms/step - loss: 0.6873 - recall: 1.0000 - accuracy: 0.5281 - val_loss: 0.6866 - val_recall: 1.0000 - val_accuracy: 0.5230\n",
      "Epoch 22/50\n",
      "64/64 [==============================] - 2s 33ms/step - loss: 0.6869 - recall: 0.9995 - accuracy: 0.5236 - val_loss: 0.6861 - val_recall: 1.0000 - val_accuracy: 0.5230\n",
      "Epoch 23/50\n",
      "64/64 [==============================] - 2s 33ms/step - loss: 0.6865 - recall: 1.0000 - accuracy: 0.5239 - val_loss: 0.6856 - val_recall: 1.0000 - val_accuracy: 0.5235\n",
      "Epoch 24/50\n",
      "64/64 [==============================] - 2s 33ms/step - loss: 0.6859 - recall: 1.0000 - accuracy: 0.5315 - val_loss: 0.6851 - val_recall: 1.0000 - val_accuracy: 0.5230\n",
      "Epoch 25/50\n",
      "64/64 [==============================] - 2s 33ms/step - loss: 0.6851 - recall: 0.9991 - accuracy: 0.5288 - val_loss: 0.6844 - val_recall: 1.0000 - val_accuracy: 0.5235\n",
      "Epoch 26/50\n",
      "64/64 [==============================] - 2s 33ms/step - loss: 0.6846 - recall: 0.9995 - accuracy: 0.5303 - val_loss: 0.6838 - val_recall: 1.0000 - val_accuracy: 0.5258\n",
      "Epoch 27/50\n",
      "64/64 [==============================] - 2s 33ms/step - loss: 0.6839 - recall: 0.9981 - accuracy: 0.5399 - val_loss: 0.6831 - val_recall: 1.0000 - val_accuracy: 0.5310\n",
      "Epoch 28/50\n",
      "64/64 [==============================] - 2s 33ms/step - loss: 0.6835 - recall: 0.9943 - accuracy: 0.5539 - val_loss: 0.6822 - val_recall: 1.0000 - val_accuracy: 0.5281\n",
      "Epoch 29/50\n",
      "64/64 [==============================] - 2s 33ms/step - loss: 0.6823 - recall: 0.9962 - accuracy: 0.5382 - val_loss: 0.6814 - val_recall: 1.0000 - val_accuracy: 0.5419\n",
      "Epoch 30/50\n",
      "64/64 [==============================] - 2s 33ms/step - loss: 0.6816 - recall: 0.9948 - accuracy: 0.5574 - val_loss: 0.6804 - val_recall: 1.0000 - val_accuracy: 0.5528\n",
      "Epoch 31/50\n",
      "64/64 [==============================] - 2s 36ms/step - loss: 0.6803 - recall: 0.9901 - accuracy: 0.5773 - val_loss: 0.6794 - val_recall: 1.0000 - val_accuracy: 0.5287\n",
      "Epoch 32/50\n",
      "64/64 [==============================] - 2s 34ms/step - loss: 0.6795 - recall: 0.9948 - accuracy: 0.5549 - val_loss: 0.6780 - val_recall: 0.9978 - val_accuracy: 0.5758\n",
      "Epoch 33/50\n",
      "64/64 [==============================] - 2s 34ms/step - loss: 0.6778 - recall: 0.9906 - accuracy: 0.5923 - val_loss: 0.6766 - val_recall: 0.9967 - val_accuracy: 0.5913\n",
      "Epoch 34/50\n",
      "64/64 [==============================] - 2s 33ms/step - loss: 0.6765 - recall: 0.9849 - accuracy: 0.5958 - val_loss: 0.6750 - val_recall: 0.9945 - val_accuracy: 0.6028\n",
      "Epoch 35/50\n",
      "64/64 [==============================] - 2s 33ms/step - loss: 0.6747 - recall: 0.9736 - accuracy: 0.6194 - val_loss: 0.6732 - val_recall: 0.9945 - val_accuracy: 0.6108\n",
      "Epoch 36/50\n",
      "64/64 [==============================] - 2s 33ms/step - loss: 0.6737 - recall: 0.9637 - accuracy: 0.6300 - val_loss: 0.6713 - val_recall: 0.9945 - val_accuracy: 0.6085\n",
      "Epoch 37/50\n",
      "64/64 [==============================] - 2s 33ms/step - loss: 0.6716 - recall: 0.9680 - accuracy: 0.6408 - val_loss: 0.6690 - val_recall: 0.9890 - val_accuracy: 0.6481\n",
      "Epoch 38/50\n",
      "64/64 [==============================] - 2s 35ms/step - loss: 0.6691 - recall: 0.9590 - accuracy: 0.6435 - val_loss: 0.6663 - val_recall: 0.9759 - val_accuracy: 0.6883\n",
      "Epoch 39/50\n",
      "64/64 [==============================] - 2s 35ms/step - loss: 0.6668 - recall: 0.9505 - accuracy: 0.6696 - val_loss: 0.6634 - val_recall: 0.9462 - val_accuracy: 0.7181\n",
      "Epoch 40/50\n",
      "64/64 [==============================] - 2s 35ms/step - loss: 0.6640 - recall: 0.9162 - accuracy: 0.6905 - val_loss: 0.6599 - val_recall: 0.9627 - val_accuracy: 0.7078\n",
      "Epoch 41/50\n",
      "64/64 [==============================] - 2s 35ms/step - loss: 0.6604 - recall: 0.9350 - accuracy: 0.6891 - val_loss: 0.6559 - val_recall: 0.9396 - val_accuracy: 0.7313\n",
      "Epoch 42/50\n",
      "64/64 [==============================] - 2s 35ms/step - loss: 0.6564 - recall: 0.9133 - accuracy: 0.7088 - val_loss: 0.6513 - val_recall: 0.9034 - val_accuracy: 0.7468\n",
      "Epoch 43/50\n",
      "64/64 [==============================] - 2s 37ms/step - loss: 0.6515 - recall: 0.8742 - accuracy: 0.7184 - val_loss: 0.6458 - val_recall: 0.9199 - val_accuracy: 0.7486\n",
      "Epoch 44/50\n",
      "64/64 [==============================] - 2s 35ms/step - loss: 0.6449 - recall: 0.9001 - accuracy: 0.7233 - val_loss: 0.6395 - val_recall: 0.8606 - val_accuracy: 0.7543\n",
      "Epoch 45/50\n",
      "64/64 [==============================] - 2s 33ms/step - loss: 0.6395 - recall: 0.8587 - accuracy: 0.7393 - val_loss: 0.6322 - val_recall: 0.8661 - val_accuracy: 0.7577\n",
      "Epoch 46/50\n"
     ]
    },
    {
     "name": "stdout",
     "output_type": "stream",
     "text": [
      "64/64 [==============================] - 2s 32ms/step - loss: 0.6321 - recall: 0.8714 - accuracy: 0.7395 - val_loss: 0.6241 - val_recall: 0.7662 - val_accuracy: 0.7451\n",
      "Epoch 47/50\n",
      "64/64 [==============================] - 2s 32ms/step - loss: 0.6239 - recall: 0.8008 - accuracy: 0.7358 - val_loss: 0.6142 - val_recall: 0.8727 - val_accuracy: 0.7646\n",
      "Epoch 48/50\n",
      "64/64 [==============================] - 2s 32ms/step - loss: 0.6134 - recall: 0.8281 - accuracy: 0.7501 - val_loss: 0.6035 - val_recall: 0.8858 - val_accuracy: 0.7652\n",
      "Epoch 49/50\n",
      "64/64 [==============================] - 2s 32ms/step - loss: 0.6034 - recall: 0.8333 - accuracy: 0.7514 - val_loss: 0.5911 - val_recall: 0.8222 - val_accuracy: 0.7744\n",
      "Epoch 50/50\n",
      "64/64 [==============================] - 2s 34ms/step - loss: 0.5891 - recall: 0.7744 - accuracy: 0.7501 - val_loss: 0.5803 - val_recall: 0.9374 - val_accuracy: 0.7767\n"
     ]
    }
   ],
   "source": [
    "es = EarlyStopping(monitor = 'val_loss', patience=5)\n",
    "batch_size = 64\n",
    "\n",
    "history = model.fit(X_trn, y_trn,\n",
    "                    validation_data=(X_vld, y_vld),\n",
    "                    batch_size=batch_size, epochs=epochs, verbose=1,\n",
    "                    callbacks = [es])"
   ]
  },
  {
   "cell_type": "code",
   "execution_count": 208,
   "id": "68d111d1",
   "metadata": {},
   "outputs": [
    {
     "data": {
      "image/png": "[encoded data removed]",
      "text/plain": [
       "<Figure size 576x288 with 2 Axes>"
      ]
     },
     "metadata": {},
     "output_type": "display_data"
    }
   ],
   "source": [
    "plt.figure(figsize=(8, 4))\n",
    "\n",
    "plt.subplot(1, 2, 1)\n",
    "plt.plot(history.history['loss'], 'b--', label = 'loss')\n",
    "plt.plot(history.history['val_loss'], 'r:', label = 'val_loss')\n",
    "plt.xlabel('Epochs')\n",
    "plt.legend()\n",
    "\n",
    "plt.subplot(1, 2, 2)\n",
    "plt.plot(history.history['accuracy'], 'b--', label = 'acc')\n",
    "plt.plot(history.history['val_accuracy'], 'r:', label = 'val_acc')\n",
    "plt.xlabel('Epochs')\n",
    "plt.legend()\n",
    "\n",
    "plt.show()"
   ]
  },
  {
   "cell_type": "code",
   "execution_count": 209,
   "id": "b6967b57",
   "metadata": {},
   "outputs": [
    {
     "name": "stdout",
     "output_type": "stream",
     "text": [
      "Accuracy  : 0.9433\n",
      "Recall  : 0.8063\n"
     ]
    }
   ],
   "source": [
    "loss, accuracy,recall= model.evaluate(X_tst, y_tst, verbose=0)\n",
    "\n",
    "# Print metrics\n",
    "print('Accuracy  : {:.4f}'.format(accuracy))\n",
    "print('Recall  : {:.4f}'.format(recall))"
   ]
  },
  {
   "cell_type": "code",
   "execution_count": null,
   "id": "c04096ee",
   "metadata": {},
   "outputs": [],
   "source": []
  },
  {
   "cell_type": "code",
   "execution_count": null,
   "id": "fb917850",
   "metadata": {},
   "outputs": [],
   "source": []
  },
  {
   "cell_type": "code",
   "execution_count": null,
   "id": "5eb11e87",
   "metadata": {},
   "outputs": [],
   "source": []
  },
  {
   "cell_type": "code",
   "execution_count": null,
   "id": "d1a4d6a8",
   "metadata": {},
   "outputs": [],
   "source": []
  },
  {
   "cell_type": "code",
   "execution_count": 213,
   "id": "74fd86c3",
   "metadata": {},
   "outputs": [
    {
     "name": "stdout",
     "output_type": "stream",
     "text": [
      "X  [[2 3 4 5 6 1 7 8 1 0 0 0 0 0 0 0 0 0 0 0 0 0 0 0 0 0 0 0 0 0 0 0 0 0 0 0\n",
      "  0 0 0 0 0 0 0 0 0 0 0 0 0 0 0 0 0 0 0 0 0 0 0 0 0 0 0 0 0 0 0 0 0 0 0 0\n",
      "  0 0 0 0 0 0 0 0 0 0 0 0 0 0 0 0 0 0 0 0 0 0 0 0 0 0 0 0]]\n",
      "#########################################\n",
      "1/1 [==============================] - 0s 16ms/step\n",
      "predict  [[0.6411502]]\n"
     ]
    }
   ],
   "source": [
    "txt=\"michigan governor violat social distanc order sign stayathom order\"\n",
    "txt=remove_URL(txt)\n",
    "txt=remove_html(txt)\n",
    "txt=remove_punc(txt)\n",
    "txt=clean_line(txt)\n",
    "\n",
    "txt = [txt]\n",
    "X, tokenizer = tokenize_pad_sequences(txt)\n",
    "\n",
    "print('X ',X)\n",
    "#print('tokenizer ',tokenizer)\n",
    "print('#########################################')\n",
    "pred = model.predict(X)\n",
    "print('predict ',pred)"
   ]
  },
  {
   "cell_type": "code",
   "execution_count": 184,
   "id": "bf066eb5",
   "metadata": {},
   "outputs": [
    {
     "data": {
      "text/plain": [
       "'michigan governor violat social distanc order sign stayathom order'"
      ]
     },
     "execution_count": 184,
     "metadata": {},
     "output_type": "execute_result"
    }
   ],
   "source": [
    "df.Text[0]"
   ]
  },
  {
   "cell_type": "code",
   "execution_count": 182,
   "id": "0fce092d",
   "metadata": {},
   "outputs": [
    {
     "data": {
      "text/html": [
       "<div>\n",
       "<style scoped>\n",
       "    .dataframe tbody tr th:only-of-type {\n",
       "        vertical-align: middle;\n",
       "    }\n",
       "\n",
       "    .dataframe tbody tr th {\n",
       "        vertical-align: top;\n",
       "    }\n",
       "\n",
       "    .dataframe thead th {\n",
       "        text-align: right;\n",
       "    }\n",
       "</style>\n",
       "<table border=\"1\" class=\"dataframe\">\n",
       "  <thead>\n",
       "    <tr style=\"text-align: right;\">\n",
       "      <th></th>\n",
       "      <th>Text</th>\n",
       "      <th>Label</th>\n",
       "    </tr>\n",
       "  </thead>\n",
       "  <tbody>\n",
       "    <tr>\n",
       "      <th>0</th>\n",
       "      <td>michigan governor violat social distanc order ...</td>\n",
       "      <td>0</td>\n",
       "    </tr>\n",
       "    <tr>\n",
       "      <th>1</th>\n",
       "      <td>mexican govern not report hundr possibl thousa...</td>\n",
       "      <td>1</td>\n",
       "    </tr>\n",
       "    <tr>\n",
       "      <th>2</th>\n",
       "      <td>summer temperatur make coronaviru disappear</td>\n",
       "      <td>0</td>\n",
       "    </tr>\n",
       "    <tr>\n",
       "      <th>3</th>\n",
       "      <td>state polic cyber wing monitor onlin activ pre...</td>\n",
       "      <td>1</td>\n",
       "    </tr>\n",
       "    <tr>\n",
       "      <th>4</th>\n",
       "      <td>queen elizabeth test posit covid</td>\n",
       "      <td>0</td>\n",
       "    </tr>\n",
       "    <tr>\n",
       "      <th>5</th>\n",
       "      <td>china xi back whole review covid outbreak prop...</td>\n",
       "      <td>1</td>\n",
       "    </tr>\n",
       "    <tr>\n",
       "      <th>6</th>\n",
       "      <td>meanwhil new covid posit case detect roman dis...</td>\n",
       "      <td>1</td>\n",
       "    </tr>\n",
       "    <tr>\n",
       "      <th>7</th>\n",
       "      <td>domest flight resum may passeng follow addit g...</td>\n",
       "      <td>1</td>\n",
       "    </tr>\n",
       "    <tr>\n",
       "      <th>8</th>\n",
       "      <td>whatsapp messag claim italian supermarket chai...</td>\n",
       "      <td>0</td>\n",
       "    </tr>\n",
       "    <tr>\n",
       "      <th>9</th>\n",
       "      <td>elect year unit state coincid major diseas out...</td>\n",
       "      <td>0</td>\n",
       "    </tr>\n",
       "  </tbody>\n",
       "</table>\n",
       "</div>"
      ],
      "text/plain": [
       "                                                Text  Label\n",
       "0  michigan governor violat social distanc order ...      0\n",
       "1  mexican govern not report hundr possibl thousa...      1\n",
       "2        summer temperatur make coronaviru disappear      0\n",
       "3  state polic cyber wing monitor onlin activ pre...      1\n",
       "4                   queen elizabeth test posit covid      0\n",
       "5  china xi back whole review covid outbreak prop...      1\n",
       "6  meanwhil new covid posit case detect roman dis...      1\n",
       "7  domest flight resum may passeng follow addit g...      1\n",
       "8  whatsapp messag claim italian supermarket chai...      0\n",
       "9  elect year unit state coincid major diseas out...      0"
      ]
     },
     "execution_count": 182,
     "metadata": {},
     "output_type": "execute_result"
    }
   ],
   "source": [
    "df.head(10)"
   ]
  },
  {
   "cell_type": "code",
   "execution_count": null,
   "id": "af3d9f9a",
   "metadata": {},
   "outputs": [],
   "source": []
  }
 ],
 "metadata": {
  "kernelspec": {
   "display_name": "Python 3 (ipykernel)",
   "language": "python",
   "name": "python3"
  },
  "language_info": {
   "codemirror_mode": {
    "name": "ipython",
    "version": 3
   },
   "file_extension": ".py",
   "mimetype": "text/x-python",
   "name": "python",
   "nbconvert_exporter": "python",
   "pygments_lexer": "ipython3",
   "version": "3.9.7"
  },
  "papermill": {
   "default_parameters": {},
   "duration": 10822.079587,
   "end_time": "2023-02-16T19:07:35.371250",
   "environment_variables": {},
   "exception": null,
   "input_path": "__notebook__.ipynb",
   "output_path": "__notebook__.ipynb",
   "parameters": {},
   "start_time": "2023-02-16T16:07:13.291663",
   "version": "2.3.4"
  }
 },
 "nbformat": 4,
 "nbformat_minor": 5
}
